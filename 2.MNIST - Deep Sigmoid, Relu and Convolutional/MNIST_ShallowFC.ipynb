{
 "cells": [
  {
   "cell_type": "markdown",
   "metadata": {
    "colab_type": "text",
    "id": "Sv6jgE0jGLHw"
   },
   "source": [
    "# MNIST 1 Layer FC + Softmax"
   ]
  },
  {
   "cell_type": "markdown",
   "metadata": {
    "colab_type": "text",
    "id": "JW6Pp1s5GLIH"
   },
   "source": [
    "# Setup\n",
    "\n",
    "## Imports"
   ]
  },
  {
   "cell_type": "code",
   "execution_count": 1,
   "metadata": {
    "colab": {
     "autoexec": {
      "startup": false,
      "wait_interval": 0
     }
    },
    "colab_type": "code",
    "id": "n4dcP1mkGLIU"
   },
   "outputs": [
    {
     "name": "stderr",
     "output_type": "stream",
     "text": [
      "C:\\Users\\FMISecretariat6\\Anaconda3\\lib\\site-packages\\h5py\\__init__.py:36: FutureWarning: Conversion of the second argument of issubdtype from `float` to `np.floating` is deprecated. In future, it will be treated as `np.float64 == np.dtype(float).type`.\n",
      "  from ._conv import register_converters as _register_converters\n"
     ]
    }
   ],
   "source": [
    "import tensorflow as tf\n",
    "from tensorflow.examples.tutorials.mnist import input_data as mnist_data\n",
    "\n",
    "import matplotlib.pyplot as plt\n",
    "%matplotlib inline\n",
    "import seaborn as sns\n",
    "sns.set()"
   ]
  },
  {
   "cell_type": "markdown",
   "metadata": {
    "colab_type": "text",
    "id": "IAbH2tpuGLI3"
   },
   "source": [
    "## Load Data"
   ]
  },
  {
   "cell_type": "code",
   "execution_count": 2,
   "metadata": {
    "colab": {
     "autoexec": {
      "startup": false,
      "wait_interval": 0
     },
     "base_uri": "https://localhost:8080/",
     "height": 85,
     "output_extras": [
      {
       "item_id": 2
      }
     ]
    },
    "colab_type": "code",
    "executionInfo": {
     "elapsed": 2312,
     "status": "ok",
     "timestamp": 1520370585832,
     "user": {
      "displayName": "Andrei Janca",
      "photoUrl": "//lh4.googleusercontent.com/-WcoatQvgbR4/AAAAAAAAAAI/AAAAAAAAAM0/x-SFTi_dtXM/s50-c-k-no/photo.jpg",
      "userId": "110870304408376504137"
     },
     "user_tz": -120
    },
    "id": "qSgROxbvGLI9",
    "outputId": "7b1406c2-ae7c-45b3-9369-9702f1458165"
   },
   "outputs": [
    {
     "name": "stdout",
     "output_type": "stream",
     "text": [
      "Successfully downloaded train-images-idx3-ubyte.gz 9912422 bytes.\n",
      "Extracting data\\train-images-idx3-ubyte.gz\n",
      "Successfully downloaded train-labels-idx1-ubyte.gz 28881 bytes.\n",
      "Extracting data\\train-labels-idx1-ubyte.gz\n",
      "Successfully downloaded t10k-images-idx3-ubyte.gz 1648877 bytes.\n",
      "Extracting data\\t10k-images-idx3-ubyte.gz\n",
      "Successfully downloaded t10k-labels-idx1-ubyte.gz 4542 bytes.\n",
      "Extracting data\\t10k-labels-idx1-ubyte.gz\n"
     ]
    }
   ],
   "source": [
    "# Download images and labels into mnist.test (10K images+labels) and mnist.train (60K images+labels)\n",
    "mnist = mnist_data.read_data_sets(\"data\", one_hot=True, reshape=False, validation_size=0)"
   ]
  },
  {
   "cell_type": "markdown",
   "metadata": {
    "colab_type": "text",
    "id": "xgil5mvsGLJo"
   },
   "source": [
    "## Setup Model"
   ]
  },
  {
   "cell_type": "markdown",
   "metadata": {
    "colab_type": "text",
    "id": "3Y8MnYoBGLJ0"
   },
   "source": [
    "Modelul corespunde unui task de clasificare + soft-max peste datasetul MNIST\n",
    "\n",
    "![](../images/model.png)\n",
    "\n",
    "Se ia fiecare imagine `28 x 28`, se vectorizeaza `784` si se ataseaza fully-connected unui layer cu 10 noduri softmax (clasificatorul) "
   ]
  },
  {
   "cell_type": "markdown",
   "metadata": {
    "colab_type": "text",
    "id": "XW7f1Lk8GLJ7"
   },
   "source": [
    "Definim intai toate valorile dimensiunilor, pentru claritate\n",
    "\n",
    "\n",
    "\n"
   ]
  },
  {
   "cell_type": "code",
   "execution_count": 3,
   "metadata": {
    "colab": {
     "autoexec": {
      "startup": false,
      "wait_interval": 0
     }
    },
    "colab_type": "code",
    "id": "t1OGvNcTGLKK"
   },
   "outputs": [],
   "source": [
    "batchSize = None;       # None pentru ca nu stim inca dimensiunea unui Batch\n",
    "imgHeight = 28\n",
    "imgWidth = 28\n",
    "numOfColors = 1         # pentru imagini color, numOfColors = 3 RGB\n",
    "flatSize = imgHeight*imgWidth*numOfColors   # 728\n",
    "numberOfClasses = 10    # 10 clase: 0-9"
   ]
  },
  {
   "cell_type": "markdown",
   "metadata": {
    "colab_type": "text",
    "id": "J9QUzCMaGLKY"
   },
   "source": [
    "Acum putem sa ne definim variabilele. Imagini de input :`X_img`:"
   ]
  },
  {
   "cell_type": "code",
   "execution_count": 4,
   "metadata": {
    "colab": {
     "autoexec": {
      "startup": false,
      "wait_interval": 0
     }
    },
    "colab_type": "code",
    "id": "nCEqjjqJGLKf"
   },
   "outputs": [],
   "source": [
    "# Input Data\n",
    "X_img = tf.placeholder(tf.float32, [batchSize, imgHeight, imgWidth, numOfColors], name=\"X_img\")"
   ]
  },
  {
   "cell_type": "markdown",
   "metadata": {
    "colab_type": "text",
    "id": "WSUp5dylGLKy"
   },
   "source": [
    "X_img este un tensor (pe care ni-l putem imagina ca un set de imagini stacked vertical intr-un tabel de lungime `batchSize`). X[0,:,:,:] este prima imagine"
   ]
  },
  {
   "cell_type": "markdown",
   "metadata": {
    "colab_type": "text",
    "id": "HA9k5gGGGLK3"
   },
   "source": [
    "X_img trebuie vectorizat/reshaped, pentru ultimul layer de FC, in X_vec. \n",
    "\n",
    "**Nota**: Daca o componenta a dimensiunilor este valoarea speciala \"-1\" , valoarea acelei componente o sa fie inlocuita in asa fel incat dimensiunea totala sa ramana constanta. Maxim o componenta poate sa fie \"-1\"."
   ]
  },
  {
   "cell_type": "code",
   "execution_count": 5,
   "metadata": {
    "colab": {
     "autoexec": {
      "startup": false,
      "wait_interval": 0
     }
    },
    "colab_type": "code",
    "id": "r4ZzVfF7GLK8"
   },
   "outputs": [],
   "source": [
    "X_vec = tf.reshape(X_img, [-1, 784], name=\"X_vec\")"
   ]
  },
  {
   "cell_type": "markdown",
   "metadata": {
    "colab_type": "text",
    "id": "N9IaETyMGLLT"
   },
   "source": [
    "`X_vec` devine $28*28*1 = 784$\n",
    "\n",
    "![](../images/x_vec.png)\n"
   ]
  },
  {
   "cell_type": "markdown",
   "metadata": {
    "colab_type": "text",
    "id": "kT6mPRKtGLLW"
   },
   "source": [
    "Definim weights si biases:"
   ]
  },
  {
   "cell_type": "code",
   "execution_count": 6,
   "metadata": {
    "colab": {
     "autoexec": {
      "startup": false,
      "wait_interval": 0
     }
    },
    "colab_type": "code",
    "id": "zJHnMkJAGLLp"
   },
   "outputs": [],
   "source": [
    "# Weights\n",
    "W = tf.Variable(tf.zeros([flatSize, numberOfClasses]), name=\"Weights\")\n",
    "\n",
    "# Biases\n",
    "b = tf.Variable(tf.zeros([10]), name=\"Biases\")"
   ]
  },
  {
   "cell_type": "markdown",
   "metadata": {
    "colab_type": "text",
    "id": "iv-x_4dcGLMD"
   },
   "source": [
    "`X_vec` este $100 \\times 784$,  `W` este $784 \\times 10$ =>>>> produce $100 \\times 10$, - i.e - cat de mult apartin cele 100 de imagini celor 10 clase? \n",
    "\n",
    "**Note**: Antrenam aceste W si b pentru a obtine un rezultat precis la aceasta intrebare."
   ]
  },
  {
   "cell_type": "markdown",
   "metadata": {
    "colab_type": "text",
    "id": "PeoKDNQ2GLMF"
   },
   "source": [
    "Initializarea variabilelor : (deprecated)"
   ]
  },
  {
   "cell_type": "code",
   "execution_count": 7,
   "metadata": {
    "colab": {
     "autoexec": {
      "startup": false,
      "wait_interval": 0
     }
    },
    "colab_type": "code",
    "id": "cmYRdQWbGLMH"
   },
   "outputs": [],
   "source": [
    "init = tf.global_variables_initializer()"
   ]
  },
  {
   "cell_type": "markdown",
   "metadata": {
    "colab_type": "text",
    "id": "oSopWkWkGLMU"
   },
   "source": [
    "Activarea pentru layerul FC:\n",
    "\n",
    "![](../images/output.png)"
   ]
  },
  {
   "cell_type": "code",
   "execution_count": 8,
   "metadata": {
    "colab": {
     "autoexec": {
      "startup": false,
      "wait_interval": 0
     }
    },
    "colab_type": "code",
    "id": "7SOMN75lGLMW"
   },
   "outputs": [],
   "source": [
    "Y_Pred_Prob = tf.nn.softmax(tf.matmul(X_vec, W) + b, name=\"softmax\")"
   ]
  },
  {
   "cell_type": "markdown",
   "metadata": {
    "colab_type": "text",
    "id": "cpmg8Q51GLMi"
   },
   "source": [
    "Definim un placeholder pentru probabilitatile de apartentanta la clasa. Folosim \"None\" ca prima dimensiune pentru ca o sa fie automat prelucrate batchSize imagini, indiferent de cat de mare este batchSize."
   ]
  },
  {
   "cell_type": "code",
   "execution_count": 9,
   "metadata": {
    "colab": {
     "autoexec": {
      "startup": false,
      "wait_interval": 0
     }
    },
    "colab_type": "code",
    "id": "4eHy5RZuGLMl"
   },
   "outputs": [],
   "source": [
    "Y_True_Prob = tf.placeholder(tf.float32, [None, 10], name=\"Y_True\")"
   ]
  },
  {
   "cell_type": "markdown",
   "metadata": {
    "colab_type": "text",
    "id": "odofB5IrGLMu"
   },
   "source": [
    "Pentru masurarea distantei intre GT si Predictii, calculam loss'ul cross-entropy : \n",
    "\n",
    "![](../images/cross_entropy_loss.png)"
   ]
  },
  {
   "cell_type": "code",
   "execution_count": 40,
   "metadata": {
    "colab": {
     "autoexec": {
      "startup": false,
      "wait_interval": 0
     }
    },
    "colab_type": "code",
    "id": "OgNj1maYGLMv"
   },
   "outputs": [],
   "source": [
    "cross_entropy_loss = -tf.reduce_sum(Y_True_Prob * tf.log(Y_Pred_Prob), name=\"Loss_Cross_Entropy\")"
   ]
  },
  {
   "cell_type": "markdown",
   "metadata": {
    "colab_type": "text",
    "id": "7irjk5BdGLM0"
   },
   "source": [
    "Calculam predictiile din fiecare vector de 10 elemente, considerand maximul ca fiind \"cea mai puternica\" incredere in acea clasa"
   ]
  },
  {
   "cell_type": "code",
   "execution_count": 41,
   "metadata": {
    "colab": {
     "autoexec": {
      "startup": false,
      "wait_interval": 0
     }
    },
    "colab_type": "code",
    "id": "u-k8_k-aGLM1"
   },
   "outputs": [],
   "source": [
    "Y_Pred_Class = tf.argmax(Y_Pred_Prob,1, name=\"Y_Pred_Class\")\n",
    "Y_True_Class = tf.argmax(Y_True_Prob,1, name=\"Y_True_Class\")   # there is only 1 non-zero index"
   ]
  },
  {
   "cell_type": "markdown",
   "metadata": {
    "colab_type": "text",
    "id": "e-Ba4B3MGLNB"
   },
   "source": [
    "Astfel, putem sa calculam metrici de acuratete : "
   ]
  },
  {
   "cell_type": "code",
   "execution_count": 42,
   "metadata": {
    "colab": {
     "autoexec": {
      "startup": false,
      "wait_interval": 0
     }
    },
    "colab_type": "code",
    "id": "F1e6axZbGLND"
   },
   "outputs": [],
   "source": [
    "is_correct = tf.equal(Y_Pred_Class, Y_True_Class, name=\"calcCorrect\")\n",
    "\n",
    "accuracy = tf.reduce_mean(tf.cast(is_correct, tf.float32), name=\"calcAccuracy\")"
   ]
  },
  {
   "cell_type": "markdown",
   "metadata": {
    "colab_type": "text",
    "id": "WPUilAFEGLNN"
   },
   "source": [
    "# Antrenare\n",
    "\n",
    "Setup pentru optimizator. Dam ca parametru functia de cost."
   ]
  },
  {
   "cell_type": "code",
   "execution_count": 53,
   "metadata": {
    "colab": {
     "autoexec": {
      "startup": false,
      "wait_interval": 0
     }
    },
    "colab_type": "code",
    "id": "QPJYjam6GLNS"
   },
   "outputs": [],
   "source": [
    "alpha = 0.003                          # rata de invatare / learning rate\n",
    "\n",
    "optimizer = tf.train.GradientDescentOptimizer(alpha, name=\"optimizer\")\n",
    "\n",
    "trainStep = optimizer.minimize(cross_entropy_loss, name=\"trainStep\")"
   ]
  },
  {
   "cell_type": "markdown",
   "metadata": {
    "colab_type": "text",
    "id": "FZoOGlljGLNj"
   },
   "source": [
    "**run** pe graful computational creat, in mini-batchuri de cate 100"
   ]
  },
  {
   "cell_type": "code",
   "execution_count": 54,
   "metadata": {
    "colab": {
     "autoexec": {
      "startup": false,
      "wait_interval": 0
     }
    },
    "colab_type": "code",
    "id": "jVgz--zbGLNm"
   },
   "outputs": [],
   "source": [
    "numberOfBatches = 10000\n",
    "batchSize = 100\n",
    "\n",
    "trainingAccuracyList = []\n",
    "trainingLossList = []\n",
    "testAccuracyList = []\n",
    "testLossList = []"
   ]
  },
  {
   "cell_type": "code",
   "execution_count": 55,
   "metadata": {
    "colab": {
     "autoexec": {
      "startup": false,
      "wait_interval": 0
     }
    },
    "colab_type": "code",
    "id": "FrhPjzjKGLNq"
   },
   "outputs": [
    {
     "name": "stdout",
     "output_type": "stream",
     "text": [
      "Train 0: accuracy:0.5 loss: 180.41948\n",
      "Test 0: accuracy:0.3226 loss: 20790.416\n",
      "Train 100: accuracy:0.88 loss: 46.840576\n",
      "Test 100: accuracy:0.8841 loss: 4268.7656\n",
      "Train 200: accuracy:0.94 loss: 29.140974\n",
      "Test 200: accuracy:0.902 loss: 3617.795\n",
      "Train 300: accuracy:0.92 loss: 35.79937\n",
      "Test 300: accuracy:0.9061 loss: 3412.7217\n",
      "Train 400: accuracy:0.9 loss: 45.29678\n",
      "Test 400: accuracy:0.9085 loss: 3288.1511\n",
      "Train 500: accuracy:0.95 loss: 26.759539\n",
      "Test 500: accuracy:0.9121 loss: 3174.2805\n",
      "Train 600: accuracy:0.95 loss: 17.974377\n",
      "Test 600: accuracy:0.914 loss: 3129.609\n",
      "Train 700: accuracy:0.93 loss: 28.792688\n",
      "Test 700: accuracy:0.9152 loss: 3066.0227\n",
      "Train 800: accuracy:0.96 loss: 26.375303\n",
      "Test 800: accuracy:0.9158 loss: 3031.6387\n",
      "Train 900: accuracy:0.94 loss: 25.576122\n",
      "Test 900: accuracy:0.9121 loss: 3066.3032\n",
      "Train 1000: accuracy:0.93 loss: 25.429909\n",
      "Test 1000: accuracy:0.917 loss: 2994.3804\n",
      "Train 1100: accuracy:0.91 loss: 30.02734\n",
      "Test 1100: accuracy:0.9187 loss: 2949.6846\n",
      "Train 1200: accuracy:0.88 loss: 40.7756\n",
      "Test 1200: accuracy:0.9172 loss: 2964.5376\n",
      "Train 1300: accuracy:0.97 loss: 19.058924\n",
      "Test 1300: accuracy:0.918 loss: 2887.6284\n",
      "Train 1400: accuracy:0.94 loss: 28.608128\n",
      "Test 1400: accuracy:0.9185 loss: 2876.6763\n",
      "Train 1500: accuracy:0.96 loss: 16.355234\n",
      "Test 1500: accuracy:0.9191 loss: 2874.9658\n",
      "Train 1600: accuracy:0.89 loss: 49.28399\n",
      "Test 1600: accuracy:0.921 loss: 2883.4282\n",
      "Train 1700: accuracy:0.9 loss: 27.047697\n",
      "Test 1700: accuracy:0.922 loss: 2846.4263\n",
      "Train 1800: accuracy:0.92 loss: 29.078442\n",
      "Test 1800: accuracy:0.9211 loss: 2832.9792\n",
      "Train 1900: accuracy:0.94 loss: 24.565887\n",
      "Test 1900: accuracy:0.9198 loss: 2857.4165\n",
      "Train 2000: accuracy:0.84 loss: 49.239815\n",
      "Test 2000: accuracy:0.9211 loss: 2829.3074\n",
      "Train 2100: accuracy:0.9 loss: 32.572952\n",
      "Test 2100: accuracy:0.9206 loss: 2839.3855\n",
      "Train 2200: accuracy:0.95 loss: 17.61065\n",
      "Test 2200: accuracy:0.9218 loss: 2777.053\n",
      "Train 2300: accuracy:0.93 loss: 23.36113\n",
      "Test 2300: accuracy:0.9232 loss: 2810.666\n",
      "Train 2400: accuracy:0.94 loss: 21.041843\n",
      "Test 2400: accuracy:0.9212 loss: 2819.4084\n",
      "Train 2500: accuracy:0.97 loss: 11.868341\n",
      "Test 2500: accuracy:0.9205 loss: 2801.3306\n",
      "Train 2600: accuracy:0.93 loss: 30.084208\n",
      "Test 2600: accuracy:0.9209 loss: 2810.199\n",
      "Train 2700: accuracy:0.97 loss: 13.557596\n",
      "Test 2700: accuracy:0.9208 loss: 2832.8877\n",
      "Train 2800: accuracy:0.92 loss: 26.806543\n",
      "Test 2800: accuracy:0.9174 loss: 2847.4966\n",
      "Train 2900: accuracy:0.95 loss: 19.540787\n",
      "Test 2900: accuracy:0.9226 loss: 2750.5159\n",
      "Train 3000: accuracy:0.97 loss: 11.090432\n",
      "Test 3000: accuracy:0.9219 loss: 2747.8806\n",
      "Train 3100: accuracy:0.9 loss: 30.186539\n",
      "Test 3100: accuracy:0.9224 loss: 2737.3672\n",
      "Train 3200: accuracy:0.96 loss: 13.705481\n",
      "Test 3200: accuracy:0.9178 loss: 2832.616\n",
      "Train 3300: accuracy:0.93 loss: 41.12182\n",
      "Test 3300: accuracy:0.9242 loss: 2726.536\n",
      "Train 3400: accuracy:0.93 loss: 20.000267\n",
      "Test 3400: accuracy:0.9212 loss: 2719.8604\n",
      "Train 3500: accuracy:0.89 loss: 42.85675\n",
      "Test 3500: accuracy:0.9201 loss: 2765.1333\n",
      "Train 3600: accuracy:0.94 loss: 26.236677\n",
      "Test 3600: accuracy:0.9222 loss: 2787.9905\n",
      "Train 3700: accuracy:0.91 loss: 21.095825\n",
      "Test 3700: accuracy:0.9216 loss: 2761.0078\n",
      "Train 3800: accuracy:0.9 loss: 34.578175\n",
      "Test 3800: accuracy:0.9197 loss: 2783.551\n",
      "Train 3900: accuracy:0.95 loss: 18.652813\n",
      "Test 3900: accuracy:0.924 loss: 2750.001\n",
      "Train 4000: accuracy:0.94 loss: 24.360437\n",
      "Test 4000: accuracy:0.9208 loss: 2766.4868\n",
      "Train 4100: accuracy:0.93 loss: 26.174068\n",
      "Test 4100: accuracy:0.9206 loss: 2791.2593\n",
      "Train 4200: accuracy:0.88 loss: 50.639847\n",
      "Test 4200: accuracy:0.9229 loss: 2750.8235\n",
      "Train 4300: accuracy:0.9 loss: 36.199497\n",
      "Test 4300: accuracy:0.9253 loss: 2746.6008\n",
      "Train 4400: accuracy:0.93 loss: 20.171875\n",
      "Test 4400: accuracy:0.9221 loss: 2724.2454\n",
      "Train 4500: accuracy:0.93 loss: 25.937553\n",
      "Test 4500: accuracy:0.9216 loss: 2715.792\n",
      "Train 4600: accuracy:0.91 loss: 27.375055\n",
      "Test 4600: accuracy:0.9217 loss: 2705.3096\n",
      "Train 4700: accuracy:0.96 loss: 13.003889\n",
      "Test 4700: accuracy:0.9234 loss: 2717.9248\n",
      "Train 4800: accuracy:0.93 loss: 26.419302\n",
      "Test 4800: accuracy:0.9225 loss: 2718.1475\n",
      "Train 4900: accuracy:0.93 loss: 21.420607\n",
      "Test 4900: accuracy:0.9242 loss: 2726.456\n",
      "Train 5000: accuracy:0.96 loss: 13.7630005\n",
      "Test 5000: accuracy:0.923 loss: 2770.162\n",
      "Train 5100: accuracy:0.95 loss: 18.082024\n",
      "Test 5100: accuracy:0.9218 loss: 2752.6282\n",
      "Train 5200: accuracy:0.92 loss: 23.703548\n",
      "Test 5200: accuracy:0.9225 loss: 2748.8154\n",
      "Train 5300: accuracy:0.96 loss: 17.659452\n",
      "Test 5300: accuracy:0.9245 loss: 2705.7375\n",
      "Train 5400: accuracy:0.94 loss: 25.825644\n",
      "Test 5400: accuracy:0.9203 loss: 2764.1885\n",
      "Train 5500: accuracy:0.95 loss: 13.314592\n",
      "Test 5500: accuracy:0.9228 loss: 2720.692\n",
      "Train 5600: accuracy:0.94 loss: 19.485525\n",
      "Test 5600: accuracy:0.9233 loss: 2682.6782\n",
      "Train 5700: accuracy:0.99 loss: 10.0219555\n",
      "Test 5700: accuracy:0.9212 loss: 2728.5737\n",
      "Train 5800: accuracy:0.95 loss: 28.605198\n",
      "Test 5800: accuracy:0.9226 loss: 2729.1418\n",
      "Train 5900: accuracy:0.97 loss: 14.140317\n",
      "Test 5900: accuracy:0.9222 loss: 2719.7158\n",
      "Train 6000: accuracy:0.94 loss: 20.913494\n",
      "Test 6000: accuracy:0.924 loss: 2704.362\n",
      "Train 6100: accuracy:0.96 loss: 13.816158\n",
      "Test 6100: accuracy:0.925 loss: 2681.649\n",
      "Train 6200: accuracy:0.91 loss: 32.078117\n",
      "Test 6200: accuracy:0.9244 loss: 2697.8523\n",
      "Train 6300: accuracy:0.92 loss: 39.50954\n",
      "Test 6300: accuracy:0.924 loss: 2726.4265\n",
      "Train 6400: accuracy:0.95 loss: 19.555336\n",
      "Test 6400: accuracy:0.9223 loss: 2798.6997\n",
      "Train 6500: accuracy:0.88 loss: 35.747948\n",
      "Test 6500: accuracy:0.9219 loss: 2803.7456\n",
      "Train 6600: accuracy:0.9 loss: 29.746174\n",
      "Test 6600: accuracy:0.9222 loss: 2718.586\n",
      "Train 6700: accuracy:0.91 loss: 33.04392\n",
      "Test 6700: accuracy:0.9227 loss: 2710.3728\n",
      "Train 6800: accuracy:0.92 loss: 28.638737\n",
      "Test 6800: accuracy:0.9207 loss: 2768.8855\n",
      "Train 6900: accuracy:0.96 loss: 12.280727\n",
      "Test 6900: accuracy:0.9177 loss: 2843.1626\n",
      "Train 7000: accuracy:0.95 loss: 18.131983\n",
      "Test 7000: accuracy:0.9225 loss: 2753.1338\n",
      "Train 7100: accuracy:0.95 loss: 15.884401\n",
      "Test 7100: accuracy:0.9225 loss: 2714.4736\n",
      "Train 7200: accuracy:0.85 loss: 38.760136\n",
      "Test 7200: accuracy:0.9236 loss: 2706.5596\n",
      "Train 7300: accuracy:0.93 loss: 28.058964\n",
      "Test 7300: accuracy:0.9245 loss: 2723.6309\n",
      "Train 7400: accuracy:0.91 loss: 31.878305\n",
      "Test 7400: accuracy:0.923 loss: 2757.9097\n",
      "Train 7500: accuracy:0.95 loss: 16.625751\n",
      "Test 7500: accuracy:0.9246 loss: 2677.001\n",
      "Train 7600: accuracy:0.91 loss: 25.146805\n",
      "Test 7600: accuracy:0.9223 loss: 2703.8982\n",
      "Train 7700: accuracy:0.94 loss: 35.767136\n",
      "Test 7700: accuracy:0.9238 loss: 2679.3823\n",
      "Train 7800: accuracy:0.96 loss: 16.436005\n",
      "Test 7800: accuracy:0.9239 loss: 2706.778\n",
      "Train 7900: accuracy:0.93 loss: 18.952154\n",
      "Test 7900: accuracy:0.9247 loss: 2669.812\n",
      "Train 8000: accuracy:0.94 loss: 25.200298\n",
      "Test 8000: accuracy:0.9218 loss: 2725.017\n",
      "Train 8100: accuracy:0.98 loss: 28.889921\n",
      "Test 8100: accuracy:0.923 loss: 2701.8809\n",
      "Train 8200: accuracy:0.91 loss: 30.24281\n",
      "Test 8200: accuracy:0.9235 loss: 2724.373\n",
      "Train 8300: accuracy:0.94 loss: 26.488966\n",
      "Test 8300: accuracy:0.9237 loss: 2707.4624\n",
      "Train 8400: accuracy:0.93 loss: 28.962036\n",
      "Test 8400: accuracy:0.9247 loss: 2682.5173\n",
      "Train 8500: accuracy:0.92 loss: 24.059551\n",
      "Test 8500: accuracy:0.9252 loss: 2692.99\n",
      "Train 8600: accuracy:0.96 loss: 15.524228\n",
      "Test 8600: accuracy:0.926 loss: 2687.2622\n",
      "Train 8700: accuracy:0.93 loss: 40.910976\n",
      "Test 8700: accuracy:0.9251 loss: 2718.7075\n",
      "Train 8800: accuracy:0.89 loss: 24.371593\n",
      "Test 8800: accuracy:0.9228 loss: 2709.3845\n",
      "Train 8900: accuracy:0.9 loss: 25.757008\n",
      "Test 8900: accuracy:0.9239 loss: 2673.8176\n",
      "Train 9000: accuracy:0.93 loss: 19.809963\n",
      "Test 9000: accuracy:0.9256 loss: 2673.2925\n",
      "Train 9100: accuracy:0.96 loss: 13.93416\n",
      "Test 9100: accuracy:0.9234 loss: 2697.5144\n",
      "Train 9200: accuracy:0.96 loss: 17.891499\n",
      "Test 9200: accuracy:0.9244 loss: 2682.52\n",
      "Train 9300: accuracy:0.99 loss: 9.25837\n",
      "Test 9300: accuracy:0.9199 loss: 2751.0886\n",
      "Train 9400: accuracy:0.95 loss: 19.496439\n",
      "Test 9400: accuracy:0.9249 loss: 2714.957\n",
      "Train 9500: accuracy:0.94 loss: 19.349503\n",
      "Test 9500: accuracy:0.925 loss: 2671.2642\n",
      "Train 9600: accuracy:0.93 loss: 33.60005\n",
      "Test 9600: accuracy:0.9235 loss: 2710.8342\n",
      "Train 9700: accuracy:0.96 loss: 17.28368\n",
      "Test 9700: accuracy:0.9238 loss: 2688.738\n"
     ]
    },
    {
     "name": "stdout",
     "output_type": "stream",
     "text": [
      "Train 9800: accuracy:0.92 loss: 20.624443\n",
      "Test 9800: accuracy:0.9253 loss: 2697.631\n",
      "Train 9900: accuracy:0.96 loss: 13.184711\n",
      "Test 9900: accuracy:0.925 loss: 2711.3738\n"
     ]
    }
   ],
   "source": [
    "with tf.Session() as sess:\n",
    "    \n",
    "    # actually initialize our variables\n",
    "    sess.run(init)\n",
    "    \n",
    "    # batch-minimization loop\n",
    "    for i in range(numberOfBatches):\n",
    "        # get this batches data\n",
    "        batch_X, batch_Y = mnist.train.next_batch(batchSize)\n",
    "        \n",
    "        # setup this batches input dictionary\n",
    "        train_data = {X_img: batch_X, Y_True_Prob: batch_Y}\n",
    "        \n",
    "        # run the training step on this batch\n",
    "        sess.run(trainStep, feed_dict=train_data)\n",
    "        \n",
    "\n",
    "        # compute this batches success on the training data\n",
    "        trainAcc,trainLoss = sess.run([accuracy, cross_entropy_loss], feed_dict=train_data)\n",
    "\n",
    "        if i%100 == 0:\n",
    "            # compute our success on the test data\n",
    "            test_data = {X_img: mnist.test.images, Y_True_Prob: mnist.test.labels}\n",
    "            testAcc,testLoss = sess.run([accuracy, cross_entropy_loss], feed_dict=test_data)\n",
    "            print(\"Train \" + str(i) + \": accuracy:\" + str(trainAcc) + \" loss: \" + str(trainLoss))\n",
    "            print(\"Test \" + str(i) + \": accuracy:\" + str(testAcc) + \" loss: \" + str(testLoss))\n",
    "            \n",
    "            trainingAccuracyList.append(trainAcc)\n",
    "            trainingLossList.append(trainLoss)\n",
    "            testAccuracyList.append(testAcc)\n",
    "            testLossList.append(testLoss)"
   ]
  },
  {
   "cell_type": "markdown",
   "metadata": {
    "colab_type": "text",
    "id": "auBCrW3xGLNw"
   },
   "source": [
    "# Plotting"
   ]
  },
  {
   "cell_type": "code",
   "execution_count": 57,
   "metadata": {
    "colab": {
     "autoexec": {
      "startup": false,
      "wait_interval": 0
     },
     "base_uri": "https://localhost:8080/",
     "height": 335,
     "output_extras": [
      {
       "item_id": 1
      }
     ]
    },
    "colab_type": "code",
    "executionInfo": {
     "elapsed": 1176,
     "status": "ok",
     "timestamp": 1520370643669,
     "user": {
      "displayName": "Andrei Janca",
      "photoUrl": "//lh4.googleusercontent.com/-WcoatQvgbR4/AAAAAAAAAAI/AAAAAAAAAM0/x-SFTi_dtXM/s50-c-k-no/photo.jpg",
      "userId": "110870304408376504137"
     },
     "user_tz": -120
    },
    "id": "fkTBTWn9GLNy",
    "outputId": "b301df01-85d7-42da-de38-e4331ed8b077"
   },
   "outputs": [
    {
     "data": {
      "image/png": "[encoded data removed]",
      "text/plain": [
       "<matplotlib.figure.Figure at 0x293c8f3aa20>"
      ]
     },
     "metadata": {},
     "output_type": "display_data"
    }
   ],
   "source": [
    "plt.figure(figsize=(10,5))\n",
    "\n",
    "# Plot Accuracy\n",
    "plt.subplot(1,2,1);\n",
    "plt.plot(trainingAccuracyList, label=\"Train Acc\");\n",
    "plt.plot(testAccuracyList, label=\"Test Acc\");\n",
    "plt.title(\"Accuracy\");\n",
    "plt.legend();\n",
    "\n",
    "# Plot Loss\n",
    "plt.subplot(1,2,2);\n",
    "plt.plot(trainingLossList, label=\"Test Loss\");\n",
    "plt.plot(testLossList, label=\"Test Loss\");\n",
    "plt.title(\"Loss\");\n",
    "plt.legend();"
   ]
  },
  {
   "cell_type": "code",
   "execution_count": null,
   "metadata": {},
   "outputs": [],
   "source": []
  }
 ],
 "metadata": {
  "colab": {
   "collapsed_sections": [],
   "default_view": {},
   "name": "MNIST_ShallowFC.ipynb",
   "provenance": [],
   "version": "0.3.2",
   "views": {}
  },
  "kernelspec": {
   "display_name": "Python 3",
   "language": "python",
   "name": "python3"
  },
  "language_info": {
   "codemirror_mode": {
    "name": "ipython",
    "version": 3
   },
   "file_extension": ".py",
   "mimetype": "text/x-python",
   "name": "python",
   "nbconvert_exporter": "python",
   "pygments_lexer": "ipython3",
   "version": "3.6.4"
  }
 },
 "nbformat": 4,
 "nbformat_minor": 1
}
