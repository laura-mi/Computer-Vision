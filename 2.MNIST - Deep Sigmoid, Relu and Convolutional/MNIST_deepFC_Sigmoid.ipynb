{
 "cells": [
  {
   "cell_type": "markdown",
   "metadata": {
    "colab_type": "text",
    "id": "20MwQWVEPp7s"
   },
   "source": [
    "# MNIST_deepFC_Sigmoid"
   ]
  },
  {
   "cell_type": "markdown",
   "metadata": {
    "colab_type": "text",
    "id": "gvu3xu2rPp8e"
   },
   "source": [
    "# Setup\n",
    "\n",
    "## Imports"
   ]
  },
  {
   "cell_type": "code",
   "execution_count": 2,
   "metadata": {
    "colab": {
     "autoexec": {
      "startup": false,
      "wait_interval": 0
     }
    },
    "colab_type": "code",
    "id": "uYOwuoNoPp8w"
   },
   "outputs": [
    {
     "name": "stderr",
     "output_type": "stream",
     "text": [
      "C:\\Users\\FMISecretariat6\\Anaconda3\\lib\\site-packages\\h5py\\__init__.py:36: FutureWarning: Conversion of the second argument of issubdtype from `float` to `np.floating` is deprecated. In future, it will be treated as `np.float64 == np.dtype(float).type`.\n",
      "  from ._conv import register_converters as _register_converters\n"
     ]
    }
   ],
   "source": [
    "import tensorflow as tf\n",
    "from tensorflow.examples.tutorials.mnist import input_data as mnist_data\n",
    "import pickle\n",
    "\n",
    "import matplotlib.pyplot as plt\n",
    "%matplotlib inline\n",
    "import seaborn as sns\n",
    "sns.set()"
   ]
  },
  {
   "cell_type": "markdown",
   "metadata": {
    "colab_type": "text",
    "id": "2Zcsp4_SPp9X"
   },
   "source": [
    "## Load Data"
   ]
  },
  {
   "cell_type": "code",
   "execution_count": 3,
   "metadata": {
    "colab": {
     "autoexec": {
      "startup": false,
      "wait_interval": 0
     },
     "base_uri": "https://localhost:8080/",
     "height": 85,
     "output_extras": [
      {
       "item_id": 2
      }
     ]
    },
    "colab_type": "code",
    "executionInfo": {
     "elapsed": 1650,
     "status": "ok",
     "timestamp": 1520370280222,
     "user": {
      "displayName": "Andrei Janca",
      "photoUrl": "//lh4.googleusercontent.com/-WcoatQvgbR4/AAAAAAAAAAI/AAAAAAAAAM0/x-SFTi_dtXM/s50-c-k-no/photo.jpg",
      "userId": "110870304408376504137"
     },
     "user_tz": -120
    },
    "id": "S_KdjfTkPp9d",
    "outputId": "98ab3b6d-c35a-4177-bdbe-4f3712fe03ff"
   },
   "outputs": [
    {
     "name": "stdout",
     "output_type": "stream",
     "text": [
      "Extracting data\\train-images-idx3-ubyte.gz\n",
      "Extracting data\\train-labels-idx1-ubyte.gz\n",
      "Extracting data\\t10k-images-idx3-ubyte.gz\n",
      "Extracting data\\t10k-labels-idx1-ubyte.gz\n"
     ]
    }
   ],
   "source": [
    "# Download images and labels into mnist.test (10K images+labels) and mnist.train (60K images+labels)\n",
    "mnist = mnist_data.read_data_sets(\"data\", one_hot=True, reshape=False, validation_size=0)"
   ]
  },
  {
   "cell_type": "markdown",
   "metadata": {
    "colab_type": "text",
    "id": "6HgQBQgmPp94"
   },
   "source": [
    "## Setup Model"
   ]
  },
  {
   "cell_type": "markdown",
   "metadata": {
    "colab_type": "text",
    "id": "_ZhPURl3Pp98"
   },
   "source": [
    "Construim o arhitectura cu 5 layere fully connected:\n",
    "\n",
    "![](images/5-layers.png)\n",
    "\n",
    "* pt fiecare imagine $28 \\times 28$ pixeli, vectorizam in $784$\n",
    "* conectam outputul de mai sus la un strat cu $200$ noduri si activare sigmoid\n",
    "* conectam outputul de mai sus la un strat cu $100$ noduri si activare sigmoid\n",
    "* conectam outputul de mai sus la un strat cu $60$ noduri si activare sigmoid\n",
    "* conectam outputul de mai sus la un strat cu $30$ noduri si activare sigmoid\n",
    "* conectam outputul de mai sus la un strat cu $10$ noduri si activare softmax - acesta este clasificatorul / stratul de output"
   ]
  },
  {
   "cell_type": "markdown",
   "metadata": {
    "colab_type": "text",
    "id": "oBf2XQwwPp-A"
   },
   "source": [
    "straturile intermediare se numesc \"hidden\" si folosesc activare sigmoid"
   ]
  },
  {
   "cell_type": "code",
   "execution_count": 70,
   "metadata": {
    "colab": {
     "autoexec": {
      "startup": false,
      "wait_interval": 0
     }
    },
    "colab_type": "code",
    "id": "XtwK6q_OPp-P"
   },
   "outputs": [],
   "source": [
    "batchSize = None;       # put None for right now as we dont know yet\n",
    "\n",
    "imgHeight = 28\n",
    "imgWidth = 28\n",
    "numOfColors = 1         # gray scale images\n",
    "\n",
    "flatSize = imgHeight*imgWidth*numOfColors   # 728\n",
    "\n",
    "numberOfClasses = 10    # 10 classes: 0-9\n",
    "\n",
    "# Size of each layer:\n",
    "sizeLayerOne = 200\n",
    "sizeLayerTwo = 100\n",
    "sizeLayerThree = 70\n",
    "sizeLayerFour = 30\n",
    "sizeLayerFive = numberOfClasses       # the final layer is the output layer"
   ]
  },
  {
   "cell_type": "markdown",
   "metadata": {
    "colab_type": "text",
    "id": "5UrPEuYuPp-e"
   },
   "source": [
    "Input `X_img`:"
   ]
  },
  {
   "cell_type": "code",
   "execution_count": 71,
   "metadata": {
    "colab": {
     "autoexec": {
      "startup": false,
      "wait_interval": 0
     }
    },
    "colab_type": "code",
    "id": "7guK5mFsPp-p"
   },
   "outputs": [],
   "source": [
    "# Input Data\n",
    "X_img = tf.placeholder(tf.float32, [batchSize, imgHeight, imgWidth, numOfColors], name=\"X_img\")\n",
    "X_vec = tf.reshape(X_img, [-1, 784], name=\"X_vec\")"
   ]
  },
  {
   "cell_type": "markdown",
   "metadata": {
    "colab_type": "text",
    "id": "UyEIGvndPp-5"
   },
   "source": [
    "Placeholdere necesare (GT ground truth values, vectorizate / \"one-hot encoding\")"
   ]
  },
  {
   "cell_type": "code",
   "execution_count": 72,
   "metadata": {
    "colab": {
     "autoexec": {
      "startup": false,
      "wait_interval": 0
     }
    },
    "colab_type": "code",
    "id": "lY919wj4Pp-_"
   },
   "outputs": [],
   "source": [
    "Y_True = tf.placeholder(tf.float32, [batchSize, 10])"
   ]
  },
  {
   "cell_type": "markdown",
   "metadata": {
    "colab_type": "text",
    "id": "tX50vxVFPp_Q"
   },
   "source": [
    "Definim arhitectura, in termeni de dimensiuni si conexiuni intre W si b"
   ]
  },
  {
   "cell_type": "code",
   "execution_count": 73,
   "metadata": {
    "colab": {
     "autoexec": {
      "startup": false,
      "wait_interval": 0
     }
    },
    "colab_type": "code",
    "id": "ZxaHMh-CPp_W"
   },
   "outputs": [],
   "source": [
    "with tf.name_scope(\"Layer_1\"):\n",
    "    # Weights\n",
    "    W1 = tf.Variable(tf.truncated_normal([flatSize, sizeLayerOne], stddev=0.1), name=\"Weights\")\n",
    "\n",
    "    # Biases\n",
    "    b1 = tf.Variable(tf.zeros([sizeLayerOne]), name=\"Biases\")\n",
    "    \n",
    "    # Sigmoid Activation\n",
    "    Y1 = tf.nn.sigmoid(tf.matmul(X_vec, W1) + b1, name=\"Activation\")"
   ]
  },
  {
   "cell_type": "code",
   "execution_count": 74,
   "metadata": {
    "colab": {
     "autoexec": {
      "startup": false,
      "wait_interval": 0
     },
     "base_uri": "https://localhost:8080/",
     "height": 129,
     "output_extras": [
      {
       "item_id": 1
      }
     ]
    },
    "colab_type": "code",
    "executionInfo": {
     "elapsed": 631,
     "status": "error",
     "timestamp": 1520370341843,
     "user": {
      "displayName": "Andrei Janca",
      "photoUrl": "//lh4.googleusercontent.com/-WcoatQvgbR4/AAAAAAAAAAI/AAAAAAAAAM0/x-SFTi_dtXM/s50-c-k-no/photo.jpg",
      "userId": "110870304408376504137"
     },
     "user_tz": -120
    },
    "id": "_MnTK4O8Pp_r",
    "outputId": "9876f6c4-3ad4-4831-f5b3-741b84c43881"
   },
   "outputs": [],
   "source": [
    "with tf.name_scope(\"Layer_2\"):\n",
    "    # TODO\n",
    "    # Weights\n",
    "    W2 = tf.Variable(tf.truncated_normal([sizeLayerOne, sizeLayerTwo], stddev=0.1), name=\"Weights2\")\n",
    "\n",
    "    # Biases\n",
    "    b2 = tf.Variable(tf.zeros([sizeLayerTwo]), name=\"Biases2\")\n",
    "    \n",
    "    # Sigmoid Activation\n",
    "    Y2 = tf.nn.sigmoid(tf.matmul(Y1, W2) + b2, name=\"Activation2\")\n",
    "    "
   ]
  },
  {
   "cell_type": "code",
   "execution_count": 75,
   "metadata": {
    "colab": {
     "autoexec": {
      "startup": false,
      "wait_interval": 0
     }
    },
    "colab_type": "code",
    "id": "DgzTwl93Pp__"
   },
   "outputs": [],
   "source": [
    "with tf.name_scope(\"Layer_3\"):\n",
    "    # TODO\n",
    "     # Weights\n",
    "    W3 = tf.Variable(tf.truncated_normal([sizeLayerTwo, sizeLayerThree], stddev=0.1), name=\"Weights3\")\n",
    "\n",
    "    # Biases\n",
    "    b3 = tf.Variable(tf.zeros([sizeLayerThree]), name=\"Biases3\")\n",
    "    \n",
    "    # Sigmoid Activation\n",
    "    \n",
    "    Y3 = tf.nn.sigmoid(tf.matmul(Y2, W3) + b3, name=\"Activation3\")\n",
    "    "
   ]
  },
  {
   "cell_type": "code",
   "execution_count": 76,
   "metadata": {
    "colab": {
     "autoexec": {
      "startup": false,
      "wait_interval": 0
     }
    },
    "colab_type": "code",
    "id": "57LBN9GaPqAO"
   },
   "outputs": [],
   "source": [
    "with tf.name_scope(\"Layer_4\"):\n",
    "    # TODO\n",
    "    #W\n",
    "    W4 = tf.Variable(tf.truncated_normal([sizeLayerThree,sizeLayerFour],stddev=0.1),name=\"Weights4\")\n",
    "    #biases\n",
    "    b4 = tf.Variable(tf.zeros([sizeLayerFour],name=\"Biases4\"))\n",
    "    #Activation\n",
    "    Y4 = tf.nn.sigmoid(tf.matmul(Y3,W4) + b4, name = \"Activation4\")"
   ]
  },
  {
   "cell_type": "markdown",
   "metadata": {
    "colab_type": "text",
    "id": "7uj5kvaqPqAd"
   },
   "source": [
    "Clasificatorul final, de output:"
   ]
  },
  {
   "cell_type": "code",
   "execution_count": 77,
   "metadata": {
    "colab": {
     "autoexec": {
      "startup": false,
      "wait_interval": 0
     }
    },
    "colab_type": "code",
    "id": "JqzaE35SPqAg"
   },
   "outputs": [],
   "source": [
    "with tf.name_scope(\"Output_Layer\"):\n",
    "    # Weights\n",
    "    W5 = tf.Variable(tf.truncated_normal([sizeLayerFour, sizeLayerFive], stddev=0.1), name=\"Weights\")\n",
    "\n",
    "    # Biases\n",
    "    b5 = tf.Variable(tf.zeros([sizeLayerFive]), name=\"Biases\")\n",
    "    \n",
    "    # Output logits\n",
    "    Y_logits = tf.matmul(Y4, W5) + b5\n",
    "    \n",
    "    # Softmax Activation\n",
    "    Y_Pred = tf.nn.softmax(Y_logits, name=\"Activation\")"
   ]
  },
  {
   "cell_type": "markdown",
   "metadata": {
    "colab_type": "text",
    "id": "WezJwWjSPqAr"
   },
   "source": [
    "**Nota:** functia de loss (distanta) pentru cross-entropy : \n",
    "\n",
    "$$ - \\sum \\left( \\tilde{Y}_i \\cdot \\log(Y_i) \\right)$$\n",
    "\n",
    "TensorFlow ne ajuta cu functia de librarie `softmax_cross_entropy_with_logits`. Aceasta evita probleme de stabilitate numerica pentru `log(0)` , care este `NaN`, asadar folosim aceasta functie, *normalizata pentru batchuri de $100$ de imagini*"
   ]
  },
  {
   "cell_type": "code",
   "execution_count": 78,
   "metadata": {
    "colab": {
     "autoexec": {
      "startup": false,
      "wait_interval": 0
     }
    },
    "colab_type": "code",
    "id": "TznklsNRPqAv"
   },
   "outputs": [],
   "source": [
    "cross_entropy = tf.nn.softmax_cross_entropy_with_logits(logits=Y_logits, labels=Y_True)\n",
    "cross_entropy = tf.reduce_mean(cross_entropy)*100"
   ]
  },
  {
   "cell_type": "markdown",
   "metadata": {
    "colab_type": "text",
    "id": "7SLeMFjdPqA5"
   },
   "source": [
    "Definim metricile de acuratete"
   ]
  },
  {
   "cell_type": "code",
   "execution_count": 79,
   "metadata": {
    "colab": {
     "autoexec": {
      "startup": false,
      "wait_interval": 0
     }
    },
    "colab_type": "code",
    "id": "BvBHDYi1PqA7"
   },
   "outputs": [],
   "source": [
    "# accuracy of the trained model, between 0 (worst) and 1 (best)\n",
    "correct_prediction = tf.equal(tf.argmax(Y_Pred, 1), tf.argmax(Y_True, 1))\n",
    "accuracy = tf.reduce_mean(tf.cast(correct_prediction, tf.float32))"
   ]
  },
  {
   "cell_type": "markdown",
   "metadata": {
    "colab_type": "text",
    "id": "qnAW-DvDPqBE"
   },
   "source": [
    "Pasul de antrenare se va face cu optimizatorul \"Adam\""
   ]
  },
  {
   "cell_type": "code",
   "execution_count": 80,
   "metadata": {
    "colab": {
     "autoexec": {
      "startup": false,
      "wait_interval": 0
     }
    },
    "colab_type": "code",
    "id": "KNWvPFEAPqBT"
   },
   "outputs": [],
   "source": [
    "# training step, learning rate = 0.002\n",
    "learning_rate = 0.002\n",
    "trainStep = tf.train.AdamOptimizer(learning_rate).minimize(cross_entropy)"
   ]
  },
  {
   "cell_type": "markdown",
   "metadata": {
    "colab_type": "text",
    "id": "MjxEHUJaPqBg"
   },
   "source": [
    "Antrenam arhitectura retelei, in aceeasi maniera ca inainte : "
   ]
  },
  {
   "cell_type": "code",
   "execution_count": 81,
   "metadata": {
    "colab": {
     "autoexec": {
      "startup": false,
      "wait_interval": 0
     }
    },
    "colab_type": "code",
    "id": "BOH_PnRuPqBi"
   },
   "outputs": [],
   "source": [
    "numberOfBatches = 10000\n",
    "batchSize = 100\n",
    "\n",
    "trainingAccuracyList = []\n",
    "trainingLossList = []\n",
    "testAccuracyList = []\n",
    "testLossList = []"
   ]
  },
  {
   "cell_type": "code",
   "execution_count": 82,
   "metadata": {
    "colab": {
     "autoexec": {
      "startup": false,
      "wait_interval": 0
     },
     "base_uri": "https://localhost:8080/",
     "height": 1754,
     "output_extras": [
      {}
     ]
    },
    "colab_type": "code",
    "executionInfo": {
     "elapsed": 61606,
     "status": "ok",
     "timestamp": 1520339319879,
     "user": {
      "displayName": "andi petreanu",
      "photoUrl": "//lh6.googleusercontent.com/-77-AzhcrNb4/AAAAAAAAAAI/AAAAAAAAAFo/mVZNhxbZI5s/s50-c-k-no/photo.jpg",
      "userId": "116331990643447974338"
     },
     "user_tz": -120
    },
    "id": "Fq8LNH0vPqBw",
    "outputId": "4a8885c9-5324-4c35-d6b6-1f53ff958bc4"
   },
   "outputs": [
    {
     "name": "stdout",
     "output_type": "stream",
     "text": [
      "Train 0: accuracy:0.08 loss: 237.58359\n",
      "Test 0: accuracy:0.098 loss: 233.11636\n",
      "Batch number:  0\n",
      "Train 100: accuracy:0.6 loss: 161.06746\n",
      "Test 100: accuracy:0.6254 loss: 158.954\n",
      "Batch number:  100\n",
      "Train 200: accuracy:0.81 loss: 81.42479\n",
      "Test 200: accuracy:0.7959 loss: 82.95282\n",
      "Batch number:  200\n",
      "Train 300: accuracy:0.81 loss: 50.408577\n",
      "Test 300: accuracy:0.847 loss: 55.41662\n",
      "Batch number:  300\n",
      "Train 400: accuracy:0.87 loss: 41.34839\n",
      "Test 400: accuracy:0.8399 loss: 45.678978\n",
      "Batch number:  400\n",
      "Train 500: accuracy:0.92 loss: 36.920845\n",
      "Test 500: accuracy:0.8629 loss: 41.473846\n",
      "Batch number:  500\n",
      "Train 600: accuracy:0.96 loss: 34.519302\n",
      "Test 600: accuracy:0.9152 loss: 34.36186\n",
      "Batch number:  600\n",
      "Train 700: accuracy:0.94 loss: 30.475176\n",
      "Test 700: accuracy:0.9354 loss: 26.628664\n",
      "Batch number:  700\n",
      "Train 800: accuracy:0.96 loss: 18.922894\n",
      "Test 800: accuracy:0.9387 loss: 24.26581\n",
      "Batch number:  800\n",
      "Train 900: accuracy:0.91 loss: 28.655275\n",
      "Test 900: accuracy:0.9464 loss: 21.145342\n",
      "Batch number:  900\n",
      "Train 1000: accuracy:0.98 loss: 7.8648148\n",
      "Test 1000: accuracy:0.9454 loss: 21.235182\n",
      "Batch number:  1000\n",
      "Train 1100: accuracy:0.95 loss: 15.871802\n",
      "Test 1100: accuracy:0.9544 loss: 17.33721\n",
      "Batch number:  1100\n",
      "Train 1200: accuracy:0.95 loss: 19.511553\n",
      "Test 1200: accuracy:0.957 loss: 16.89288\n",
      "Batch number:  1200\n",
      "Train 1300: accuracy:0.99 loss: 7.7218757\n",
      "Test 1300: accuracy:0.9552 loss: 16.22919\n",
      "Batch number:  1300\n",
      "Train 1400: accuracy:0.97 loss: 18.806347\n",
      "Test 1400: accuracy:0.9609 loss: 15.035502\n",
      "Batch number:  1400\n",
      "Train 1500: accuracy:0.97 loss: 14.46063\n",
      "Test 1500: accuracy:0.9622 loss: 14.576491\n",
      "Batch number:  1500\n",
      "Train 1600: accuracy:0.98 loss: 5.7384076\n",
      "Test 1600: accuracy:0.9616 loss: 14.106746\n",
      "Batch number:  1600\n",
      "Train 1700: accuracy:0.96 loss: 11.903489\n",
      "Test 1700: accuracy:0.9638 loss: 13.588407\n",
      "Batch number:  1700\n",
      "Train 1800: accuracy:0.97 loss: 11.341503\n",
      "Test 1800: accuracy:0.9645 loss: 13.389004\n",
      "Batch number:  1800\n",
      "Train 1900: accuracy:0.98 loss: 10.374688\n",
      "Test 1900: accuracy:0.9648 loss: 13.029294\n",
      "Batch number:  1900\n",
      "Train 2000: accuracy:0.98 loss: 10.6151285\n",
      "Test 2000: accuracy:0.9627 loss: 14.045872\n",
      "Batch number:  2000\n",
      "Train 2100: accuracy:0.99 loss: 3.5417962\n",
      "Test 2100: accuracy:0.967 loss: 12.058528\n",
      "Batch number:  2100\n",
      "Train 2200: accuracy:0.97 loss: 8.792422\n",
      "Test 2200: accuracy:0.9636 loss: 12.731417\n",
      "Batch number:  2200\n",
      "Train 2300: accuracy:1.0 loss: 1.276453\n",
      "Test 2300: accuracy:0.9676 loss: 11.783643\n",
      "Batch number:  2300\n",
      "Train 2400: accuracy:0.96 loss: 12.989192\n",
      "Test 2400: accuracy:0.9635 loss: 13.175662\n",
      "Batch number:  2400\n",
      "Train 2500: accuracy:0.99 loss: 4.8305798\n",
      "Test 2500: accuracy:0.9684 loss: 12.096133\n",
      "Batch number:  2500\n",
      "Train 2600: accuracy:0.98 loss: 8.323017\n",
      "Test 2600: accuracy:0.9696 loss: 11.093248\n",
      "Batch number:  2600\n",
      "Train 2700: accuracy:0.98 loss: 3.7827547\n",
      "Test 2700: accuracy:0.9677 loss: 11.575161\n",
      "Batch number:  2700\n",
      "Train 2800: accuracy:1.0 loss: 2.255444\n",
      "Test 2800: accuracy:0.9687 loss: 11.092085\n",
      "Batch number:  2800\n",
      "Train 2900: accuracy:0.96 loss: 18.663012\n",
      "Test 2900: accuracy:0.9678 loss: 11.636167\n",
      "Batch number:  2900\n",
      "Train 3000: accuracy:0.98 loss: 7.5054755\n",
      "Test 3000: accuracy:0.9696 loss: 11.554072\n",
      "Batch number:  3000\n",
      "Train 3100: accuracy:0.98 loss: 8.136645\n",
      "Test 3100: accuracy:0.9671 loss: 11.5304785\n",
      "Batch number:  3100\n",
      "Train 3200: accuracy:0.97 loss: 10.377279\n",
      "Test 3200: accuracy:0.9674 loss: 11.823208\n",
      "Batch number:  3200\n",
      "Train 3300: accuracy:0.99 loss: 3.3097432\n",
      "Test 3300: accuracy:0.9694 loss: 10.83555\n",
      "Batch number:  3300\n",
      "Train 3400: accuracy:0.99 loss: 2.3384016\n",
      "Test 3400: accuracy:0.971 loss: 10.581553\n",
      "Batch number:  3400\n",
      "Train 3500: accuracy:0.99 loss: 1.9983627\n",
      "Test 3500: accuracy:0.9731 loss: 10.009493\n",
      "Batch number:  3500\n",
      "Train 3600: accuracy:0.99 loss: 3.2131176\n",
      "Test 3600: accuracy:0.9647 loss: 11.836416\n",
      "Batch number:  3600\n",
      "Train 3700: accuracy:1.0 loss: 1.6031109\n",
      "Test 3700: accuracy:0.9669 loss: 11.818879\n",
      "Batch number:  3700\n",
      "Train 3800: accuracy:0.98 loss: 8.199734\n",
      "Test 3800: accuracy:0.9717 loss: 9.87006\n",
      "Batch number:  3800\n",
      "Train 3900: accuracy:1.0 loss: 1.3629783\n",
      "Test 3900: accuracy:0.9725 loss: 10.222667\n",
      "Batch number:  3900\n",
      "Train 4000: accuracy:0.99 loss: 5.3125033\n",
      "Test 4000: accuracy:0.9683 loss: 11.493164\n",
      "Batch number:  4000\n",
      "Train 4100: accuracy:0.98 loss: 5.088959\n",
      "Test 4100: accuracy:0.9717 loss: 10.803201\n",
      "Batch number:  4100\n",
      "Train 4200: accuracy:0.99 loss: 3.0585403\n",
      "Test 4200: accuracy:0.9671 loss: 11.857702\n",
      "Batch number:  4200\n",
      "Train 4300: accuracy:0.99 loss: 2.4654546\n",
      "Test 4300: accuracy:0.9727 loss: 10.010573\n",
      "Batch number:  4300\n",
      "Train 4400: accuracy:1.0 loss: 0.8634486\n",
      "Test 4400: accuracy:0.9725 loss: 10.167954\n",
      "Batch number:  4400\n",
      "Train 4500: accuracy:1.0 loss: 1.5822302\n",
      "Test 4500: accuracy:0.9759 loss: 9.607309\n",
      "Batch number:  4500\n",
      "Train 4600: accuracy:1.0 loss: 0.6253644\n",
      "Test 4600: accuracy:0.9738 loss: 9.812975\n",
      "Batch number:  4600\n",
      "Train 4700: accuracy:0.99 loss: 9.249269\n",
      "Test 4700: accuracy:0.9743 loss: 10.266029\n",
      "Batch number:  4700\n",
      "Train 4800: accuracy:0.99 loss: 3.0851383\n",
      "Test 4800: accuracy:0.9699 loss: 11.62697\n",
      "Batch number:  4800\n",
      "Train 4900: accuracy:0.99 loss: 3.1882167\n",
      "Test 4900: accuracy:0.9675 loss: 12.722529\n",
      "Batch number:  4900\n",
      "Train 5000: accuracy:1.0 loss: 0.8823227\n",
      "Test 5000: accuracy:0.9722 loss: 10.380041\n",
      "Batch number:  5000\n",
      "Train 5100: accuracy:1.0 loss: 0.86171126\n",
      "Test 5100: accuracy:0.973 loss: 10.576482\n",
      "Batch number:  5100\n",
      "Train 5200: accuracy:0.99 loss: 3.3018072\n",
      "Test 5200: accuracy:0.9734 loss: 10.111815\n",
      "Batch number:  5200\n",
      "Train 5300: accuracy:0.99 loss: 2.5276031\n",
      "Test 5300: accuracy:0.9744 loss: 9.850009\n",
      "Batch number:  5300\n",
      "Train 5400: accuracy:1.0 loss: 1.0660012\n",
      "Test 5400: accuracy:0.9747 loss: 10.195359\n",
      "Batch number:  5400\n",
      "Train 5500: accuracy:0.99 loss: 4.0828977\n",
      "Test 5500: accuracy:0.9723 loss: 10.717586\n",
      "Batch number:  5500\n",
      "Train 5600: accuracy:1.0 loss: 0.72893053\n",
      "Test 5600: accuracy:0.9718 loss: 11.4280815\n",
      "Batch number:  5600\n",
      "Train 5700: accuracy:1.0 loss: 0.76915246\n",
      "Test 5700: accuracy:0.9718 loss: 10.919809\n",
      "Batch number:  5700\n",
      "Train 5800: accuracy:1.0 loss: 0.8397586\n",
      "Test 5800: accuracy:0.9757 loss: 10.010345\n",
      "Batch number:  5800\n",
      "Train 5900: accuracy:0.99 loss: 4.5439277\n",
      "Test 5900: accuracy:0.9721 loss: 11.6255245\n",
      "Batch number:  5900\n",
      "Train 6000: accuracy:1.0 loss: 0.87315357\n",
      "Test 6000: accuracy:0.9732 loss: 11.2577505\n",
      "Batch number:  6000\n",
      "Train 6100: accuracy:1.0 loss: 0.575107\n",
      "Test 6100: accuracy:0.9697 loss: 12.688145\n",
      "Batch number:  6100\n",
      "Train 6200: accuracy:1.0 loss: 0.27357656\n",
      "Test 6200: accuracy:0.9724 loss: 11.806524\n",
      "Batch number:  6200\n",
      "Train 6300: accuracy:0.99 loss: 1.8424538\n",
      "Test 6300: accuracy:0.9703 loss: 12.393282\n",
      "Batch number:  6300\n",
      "Train 6400: accuracy:1.0 loss: 0.58917844\n",
      "Test 6400: accuracy:0.9747 loss: 10.526089\n",
      "Batch number:  6400\n",
      "Train 6500: accuracy:1.0 loss: 0.47878715\n",
      "Test 6500: accuracy:0.9716 loss: 11.673026\n",
      "Batch number:  6500\n",
      "Train 6600: accuracy:1.0 loss: 0.5920711\n",
      "Test 6600: accuracy:0.9733 loss: 11.045911\n",
      "Batch number:  6600\n",
      "Train 6700: accuracy:1.0 loss: 0.20594329\n",
      "Test 6700: accuracy:0.976 loss: 10.177713\n",
      "Batch number:  6700\n",
      "Train 6800: accuracy:1.0 loss: 0.65393555\n",
      "Test 6800: accuracy:0.972 loss: 11.499023\n",
      "Batch number:  6800\n",
      "Train 6900: accuracy:0.99 loss: 2.5258527\n",
      "Test 6900: accuracy:0.9734 loss: 10.870465\n",
      "Batch number:  6900\n",
      "Train 7000: accuracy:1.0 loss: 0.6089519\n",
      "Test 7000: accuracy:0.9732 loss: 11.754702\n",
      "Batch number:  7000\n",
      "Train 7100: accuracy:1.0 loss: 0.6931431\n",
      "Test 7100: accuracy:0.975 loss: 10.438847\n",
      "Batch number:  7100\n",
      "Train 7200: accuracy:1.0 loss: 1.4260329\n",
      "Test 7200: accuracy:0.9751 loss: 10.675133\n",
      "Batch number:  7200\n",
      "Train 7300: accuracy:0.99 loss: 5.7690268\n",
      "Test 7300: accuracy:0.974 loss: 10.676061\n",
      "Batch number:  7300\n",
      "Train 7400: accuracy:0.99 loss: 6.197448\n",
      "Test 7400: accuracy:0.9745 loss: 10.754102\n",
      "Batch number:  7400\n",
      "Train 7500: accuracy:1.0 loss: 0.45098102\n",
      "Test 7500: accuracy:0.9765 loss: 9.730332\n",
      "Batch number:  7500\n",
      "Train 7600: accuracy:1.0 loss: 0.20629756\n",
      "Test 7600: accuracy:0.9757 loss: 10.330261\n",
      "Batch number:  7600\n",
      "Train 7700: accuracy:1.0 loss: 1.0390013\n",
      "Test 7700: accuracy:0.9757 loss: 10.798523\n",
      "Batch number:  7700\n",
      "Train 7800: accuracy:1.0 loss: 0.4597446\n",
      "Test 7800: accuracy:0.9745 loss: 10.997399\n",
      "Batch number:  7800\n"
     ]
    },
    {
     "name": "stdout",
     "output_type": "stream",
     "text": [
      "Train 7900: accuracy:1.0 loss: 0.3028826\n",
      "Test 7900: accuracy:0.9749 loss: 11.111485\n",
      "Batch number:  7900\n",
      "Train 8000: accuracy:1.0 loss: 0.19966953\n",
      "Test 8000: accuracy:0.9724 loss: 11.650295\n",
      "Batch number:  8000\n",
      "Train 8100: accuracy:1.0 loss: 0.7296646\n",
      "Test 8100: accuracy:0.9751 loss: 11.505983\n",
      "Batch number:  8100\n",
      "Train 8200: accuracy:0.99 loss: 1.8039428\n",
      "Test 8200: accuracy:0.9719 loss: 12.166264\n",
      "Batch number:  8200\n",
      "Train 8300: accuracy:1.0 loss: 0.7632949\n",
      "Test 8300: accuracy:0.9741 loss: 11.237434\n",
      "Batch number:  8300\n",
      "Train 8400: accuracy:1.0 loss: 0.21059348\n",
      "Test 8400: accuracy:0.9709 loss: 12.2703\n",
      "Batch number:  8400\n",
      "Train 8500: accuracy:1.0 loss: 0.7501043\n",
      "Test 8500: accuracy:0.975 loss: 11.130413\n",
      "Batch number:  8500\n",
      "Train 8600: accuracy:1.0 loss: 0.07065162\n",
      "Test 8600: accuracy:0.9765 loss: 10.221632\n",
      "Batch number:  8600\n",
      "Train 8700: accuracy:1.0 loss: 0.55359554\n",
      "Test 8700: accuracy:0.9746 loss: 10.836129\n",
      "Batch number:  8700\n",
      "Train 8800: accuracy:0.99 loss: 1.277996\n",
      "Test 8800: accuracy:0.9744 loss: 11.367985\n",
      "Batch number:  8800\n",
      "Train 8900: accuracy:1.0 loss: 0.43847162\n",
      "Test 8900: accuracy:0.9707 loss: 12.979944\n",
      "Batch number:  8900\n",
      "Train 9000: accuracy:1.0 loss: 0.54460335\n",
      "Test 9000: accuracy:0.9763 loss: 10.998696\n",
      "Batch number:  9000\n",
      "Train 9100: accuracy:1.0 loss: 0.38102126\n",
      "Test 9100: accuracy:0.9731 loss: 12.438443\n",
      "Batch number:  9100\n",
      "Train 9200: accuracy:1.0 loss: 0.07099532\n",
      "Test 9200: accuracy:0.9733 loss: 12.15022\n",
      "Batch number:  9200\n",
      "Train 9300: accuracy:1.0 loss: 0.2451963\n",
      "Test 9300: accuracy:0.9724 loss: 13.813056\n",
      "Batch number:  9300\n",
      "Train 9400: accuracy:1.0 loss: 0.09859086\n",
      "Test 9400: accuracy:0.9746 loss: 11.74493\n",
      "Batch number:  9400\n",
      "Train 9500: accuracy:1.0 loss: 0.18369994\n",
      "Test 9500: accuracy:0.9757 loss: 11.594026\n",
      "Batch number:  9500\n",
      "Train 9600: accuracy:0.99 loss: 1.6596744\n",
      "Test 9600: accuracy:0.975 loss: 11.749891\n",
      "Batch number:  9600\n",
      "Train 9700: accuracy:1.0 loss: 0.50617456\n",
      "Test 9700: accuracy:0.9724 loss: 12.691744\n",
      "Batch number:  9700\n",
      "Train 9800: accuracy:0.99 loss: 1.089149\n",
      "Test 9800: accuracy:0.9758 loss: 11.185092\n",
      "Batch number:  9800\n",
      "Train 9900: accuracy:1.0 loss: 0.14081803\n",
      "Test 9900: accuracy:0.9769 loss: 11.380546\n",
      "Batch number:  9900\n"
     ]
    }
   ],
   "source": [
    "init = tf.global_variables_initializer()\n",
    "with tf.Session() as sess:\n",
    "    \n",
    "    \n",
    "    # actually initialize our variables\n",
    "    sess.run(init)\n",
    "    \n",
    "    # batch-minimization loop\n",
    "    for i in range(numberOfBatches):\n",
    "        # get this batches data\n",
    "        batch_X, batch_Y = mnist.train.next_batch(batchSize)\n",
    "        \n",
    "        # setup this batches input dictionary\n",
    "        train_data = {X_img: batch_X, Y_True: batch_Y}\n",
    "        \n",
    "        # run the training step on this batch\n",
    "        sess.run(trainStep, feed_dict=train_data)\n",
    "\n",
    "        # compute this batches success on the training data\n",
    "        trainAcc, trainLoss = sess.run([accuracy, cross_entropy], feed_dict=train_data)\n",
    "\n",
    "        if i%100 == 0:\n",
    "            # compute our success on the test data\n",
    "            test_data = {X_img: mnist.test.images, Y_True: mnist.test.labels}\n",
    "            testAcc,testLoss = sess.run([accuracy, cross_entropy], feed_dict=test_data)\n",
    "            print(\"Train \" + str(i) + \": accuracy:\" + str(trainAcc) + \" loss: \" + str(trainLoss))\n",
    "            print(\"Test \" + str(i) + \": accuracy:\" + str(testAcc) + \" loss: \" + str(testLoss))\n",
    "            \n",
    "            trainingAccuracyList.append(trainAcc)\n",
    "            trainingLossList.append(trainLoss)\n",
    "            testAccuracyList.append(testAcc)\n",
    "            testLossList.append(testLoss)\n",
    "            \n",
    "            print(\"Batch number: \",i)"
   ]
  },
  {
   "cell_type": "markdown",
   "metadata": {
    "colab_type": "text",
    "id": "ahPBR0riPqCB"
   },
   "source": [
    "# Plotting"
   ]
  },
  {
   "cell_type": "code",
   "execution_count": 83,
   "metadata": {
    "colab": {
     "autoexec": {
      "startup": false,
      "wait_interval": 0
     },
     "base_uri": "https://localhost:8080/",
     "height": 335,
     "output_extras": [
      {}
     ]
    },
    "colab_type": "code",
    "executionInfo": {
     "elapsed": 1095,
     "status": "ok",
     "timestamp": 1520339324486,
     "user": {
      "displayName": "andi petreanu",
      "photoUrl": "//lh6.googleusercontent.com/-77-AzhcrNb4/AAAAAAAAAAI/AAAAAAAAAFo/mVZNhxbZI5s/s50-c-k-no/photo.jpg",
      "userId": "116331990643447974338"
     },
     "user_tz": -120
    },
    "id": "u5VxonzsPqCD",
    "outputId": "eefdb446-5730-4113-cbdc-24cd08ae4a5d"
   },
   "outputs": [
    {
     "data": {
      "image/png": "[encoded data removed]",
      "text/plain": [
       "<matplotlib.figure.Figure at 0x1e7413220b8>"
      ]
     },
     "metadata": {},
     "output_type": "display_data"
    }
   ],
   "source": [
    "plt.figure(figsize=(10,5))\n",
    "\n",
    "# Plot Accuracy\n",
    "plt.subplot(1,2,1);\n",
    "plt.plot(trainingAccuracyList, label=\"Train Acc\");\n",
    "plt.plot(testAccuracyList, label=\"Test Acc\");\n",
    "plt.title(\"Accuracy\");\n",
    "plt.legend();\n",
    "\n",
    "# Plot Loss\n",
    "plt.subplot(1,2,2);\n",
    "plt.plot(trainingLossList, label=\"Test Loss\");\n",
    "plt.plot(testLossList, label=\"Test Loss\");\n",
    "plt.title(\"Loss\");\n",
    "plt.legend();"
   ]
  },
  {
   "cell_type": "markdown",
   "metadata": {
    "colab_type": "text",
    "id": "MegNqw2VPqCS"
   },
   "source": [
    "Daca ne uitam doar la capetele finale ale ploturilor : "
   ]
  },
  {
   "cell_type": "code",
   "execution_count": 84,
   "metadata": {
    "colab": {
     "autoexec": {
      "startup": false,
      "wait_interval": 0
     },
     "base_uri": "https://localhost:8080/",
     "height": 335,
     "output_extras": [
      {}
     ]
    },
    "colab_type": "code",
    "executionInfo": {
     "elapsed": 952,
     "status": "ok",
     "timestamp": 1520339376615,
     "user": {
      "displayName": "andi petreanu",
      "photoUrl": "//lh6.googleusercontent.com/-77-AzhcrNb4/AAAAAAAAAAI/AAAAAAAAAFo/mVZNhxbZI5s/s50-c-k-no/photo.jpg",
      "userId": "116331990643447974338"
     },
     "user_tz": -120
    },
    "id": "zH_gx7yhPqCT",
    "outputId": "72f7bdd8-2ab6-44c0-e0e7-5e68cc62208a"
   },
   "outputs": [
    {
     "data": {
      "image/png": "[encoded data removed]",
      "text/plain": [
       "<matplotlib.figure.Figure at 0x1e743c34e10>"
      ]
     },
     "metadata": {},
     "output_type": "display_data"
    }
   ],
   "source": [
    "tailLength = -90\n",
    "\n",
    "plt.figure(figsize=(10,5))\n",
    "\n",
    "# Plot Accuracy\n",
    "plt.subplot(1,2,1);\n",
    "plt.plot(trainingAccuracyList[tailLength:], label=\"Train Acc\");\n",
    "plt.plot(testAccuracyList[tailLength:], label=\"Test Acc\");\n",
    "plt.title(\"Accuracy\");\n",
    "plt.legend();\n",
    "\n",
    "# Plot Loss\n",
    "plt.subplot(1,2,2);\n",
    "plt.plot(trainingLossList[tailLength:], label=\"Test Loss\");\n",
    "plt.plot(testLossList[tailLength:], label=\"Test Loss\");\n",
    "plt.title(\"Loss\");\n",
    "plt.legend();"
   ]
  },
  {
   "cell_type": "markdown",
   "metadata": {
    "colab_type": "text",
    "id": "PBgfxZ1YPqCe"
   },
   "source": [
    "# Salvarea rezultatelor ca pickle"
   ]
  },
  {
   "cell_type": "code",
   "execution_count": 89,
   "metadata": {
    "colab": {
     "autoexec": {
      "startup": false,
      "wait_interval": 0
     }
    },
    "colab_type": "code",
    "id": "H98HX-kmPqCh"
   },
   "outputs": [],
   "source": [
    "#from google.colab import files\n",
    "\n",
    "resultsDic = {\"trainAcc\": trainingAccuracyList, \"trainLoss\": trainingLossList, \"testAcc\": testAccuracyList, \"testLoss\": testLossList}\n",
    "\n",
    "with open(\"mnist-2.0-results.txt\", \"wb\") as fp:   #Pickling\n",
    "    pickle.dump(resultsDic, fp)\n",
    "    \n",
    "#files.download(\"mnist-2.0-results.txt\")"
   ]
  },
  {
   "cell_type": "code",
   "execution_count": 0,
   "metadata": {
    "colab": {
     "autoexec": {
      "startup": false,
      "wait_interval": 0
     }
    },
    "colab_type": "code",
    "id": "mb-QJoP9PqCp"
   },
   "outputs": [],
   "source": []
  }
 ],
 "metadata": {
  "colab": {
   "default_view": {},
   "name": "MNIST_deepFC_Sigmoid.ipynb",
   "provenance": [],
   "version": "0.3.2",
   "views": {}
  },
  "kernelspec": {
   "display_name": "Python 3",
   "language": "python",
   "name": "python3"
  },
  "language_info": {
   "codemirror_mode": {
    "name": "ipython",
    "version": 3
   },
   "file_extension": ".py",
   "mimetype": "text/x-python",
   "name": "python",
   "nbconvert_exporter": "python",
   "pygments_lexer": "ipython3",
   "version": "3.6.4"
  }
 },
 "nbformat": 4,
 "nbformat_minor": 1
}
